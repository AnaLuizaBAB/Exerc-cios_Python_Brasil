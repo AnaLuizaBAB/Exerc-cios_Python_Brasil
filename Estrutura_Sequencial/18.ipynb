{
 "cells": [
  {
   "cell_type": "markdown",
   "metadata": {},
   "source": [
    "Faça um programa que peça o tamanho de um arquivo para download (em MB) e a velocidade de um link de Internet (em Mbps), calcule e informe o tempo aproximado de download do arquivo usando este link (em minutos)."
   ]
  },
  {
   "cell_type": "code",
   "execution_count": 7,
   "metadata": {},
   "outputs": [
    {
     "name": "stdout",
     "output_type": "stream",
     "text": [
      "O tamanho informado foi 500.0 MB e a velocidade informada foi 50.0 Mb/s . O tempo necessário para realização do download: 2 min.\n"
     ]
    }
   ],
   "source": [
    "import math\n",
    "\n",
    "tamanho = float(input(\"Informe o tamanho do arquivo em MB: \"))\n",
    "velocidade = float(input(\"Informe a velocidade da internet: \"))\n",
    "\n",
    "# 1 MB = 8 Mb\n",
    "tamanho_transformado =  tamanho * 8\n",
    "tempo = math.ceil((tamanho_transformado/velocidade)/60)\n",
    "\n",
    "print(f\"O tamanho informado foi {tamanho} MB e a velocidade informada foi {velocidade} Mb/s . O tempo necessário para realização do download: {tempo} min.\")"
   ]
  }
 ],
 "metadata": {
  "kernelspec": {
   "display_name": "Python 3",
   "language": "python",
   "name": "python3"
  },
  "language_info": {
   "codemirror_mode": {
    "name": "ipython",
    "version": 3
   },
   "file_extension": ".py",
   "mimetype": "text/x-python",
   "name": "python",
   "nbconvert_exporter": "python",
   "pygments_lexer": "ipython3",
   "version": "3.11.9"
  }
 },
 "nbformat": 4,
 "nbformat_minor": 2
}
