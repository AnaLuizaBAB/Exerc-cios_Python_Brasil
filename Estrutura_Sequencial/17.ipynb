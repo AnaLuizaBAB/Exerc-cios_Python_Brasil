{
 "cells": [
  {
   "cell_type": "markdown",
   "metadata": {},
   "source": [
    "Faça um Programa para uma loja de tintas. O programa deverá pedir o tamanho em metros quadrados da área a ser pintada. \n",
    "Considere que a cobertura da tinta é de 1 litro para cada 6 metros quadrados e que a tinta é vendida em latas de 18 litros, que custam R$ 80,00 ou em galões de 3,6 litros, que custam R$ 25,00.\n",
    "\n",
    "Informe ao usuário as quantidades de tinta a serem compradas e os respectivos preços em 3 situações:\n",
    "comprar apenas latas de 18 litros;\n",
    "comprar apenas galões de 3,6 litros;\n",
    "misturar latas e galões, de forma que o desperdício de tinta seja menor. Acrescente 10% de folga e sempre arredonde os valores para cima, isto é, considere latas cheias."
   ]
  },
  {
   "cell_type": "markdown",
   "metadata": {},
   "source": [
    "obs: \n",
    "- Se precisarmos usar até 10,8 litros de tinta  sai mais barato comprar os 3 galões!! \n",
    "- se formos usar de 10,8 L até 18 L compensa comprar uma lata de tinha!!\n",
    "- Se formos usar mais de 18 litros, o melhor é usar a menor quantidade inteira de latas possiveis (depois da divisão da quantidade de tinha necessaria por 18) e completar o restante com galões."
   ]
  },
  {
   "cell_type": "code",
   "execution_count": null,
   "metadata": {},
   "outputs": [],
   "source": [
    "import math\n",
    "\n",
    "\n",
    "area_a_ser_pintada = float(input(\"Digite a área a ser pintada, em metros quadrados: \"))\n",
    "\n",
    "quantidade_de_tinta = (area_a_ser_pintada/6)*1.1                  # para garantir os 10 % a mais de tinta.\n",
    "\n",
    "gasto_apenas_lata =(math.ceil(quantidade_de_tinta/18))*80\n",
    "gasto_apenas_galao = (math.ceil(quantidade_de_tinta/3.6))*25\n",
    "\n",
    "if (quantidade_de_tinta <= 10.8):\n",
    "    \n",
    "    quantidade_de_galao = (math.ceil(quantidade_de_tinta/3.6))\n",
    "    gasto_galao = quantidade_de_galao * 25\n",
    "    print(f\"Menor custo: será necessário comprar {quantidade_de_galao} galões de tinta. Tendo um custo total de {gasto_galao:.2f} reais.\")\n",
    "\n",
    "elif (10.8 < quantidade_de_tinta <= 18):\n",
    "\n",
    "    quantidade_de_latas = (math.ceil(quantidade_de_tinta/18))\n",
    "    gasto_lata = quantidade_de_latas * 80\n",
    "    print(f\"Menor custo: Será necessário comprar {quantidade_de_latas} latas de tinta. Tendo um custo total de {gasto_lata:.2f} reais.\")\n",
    "\n",
    "else:\n",
    "    quantidade_de_latas = (math.floor(quantidade_de_tinta/18))\n",
    "    quantidade_de_tinta_queAindaFalta = quantidade_de_tinta - (quantidade_de_latas * 18)\n",
    "    quantidade_de_galao = (math.ceil(quantidade_de_tinta_queAindaFalta/3.6))\n",
    "\n",
    "    gasto_lata = quantidade_de_latas * 80 \n",
    "    gasto_galao = quantidade_de_galao * 25\n",
    "    gasto_total = gasto_lata + gasto_galao\n",
    "\n",
    "    print(f\"Menor custo: será necessário comprar {quantidade_de_latas} latas de tinta (custo: {gasto_lata:.2f} reais), {quantidade_de_galao} galões de tinta (custo: {gasto_galao:.2f} reais). Tendo um custo total de {gasto_total:.2f} reais.\")\n",
    "\n",
    "\n",
    "print(\"\\n\")\n",
    "print(f\"Comprando apenas latas o custo total seria: {gasto_apenas_lata:.2f}\")\n",
    "print(f\"Comprando apenas galões o custo total seria: {gasto_apenas_galao:.2f}\")"
   ]
  }
 ],
 "metadata": {
  "kernelspec": {
   "display_name": "Python 3",
   "language": "python",
   "name": "python3"
  },
  "language_info": {
   "codemirror_mode": {
    "name": "ipython",
    "version": 3
   },
   "file_extension": ".py",
   "mimetype": "text/x-python",
   "name": "python",
   "nbconvert_exporter": "python",
   "pygments_lexer": "ipython3",
   "version": "3.11.3"
  },
  "orig_nbformat": 4
 },
 "nbformat": 4,
 "nbformat_minor": 2
}
